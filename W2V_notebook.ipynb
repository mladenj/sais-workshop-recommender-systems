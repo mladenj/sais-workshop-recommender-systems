{
  "cells": [
    {
      "cell_type": "code",
      "execution_count": null,
      "metadata": {
        "id": "8sGTgtSXlVFn"
      },
      "outputs": [],
      "source": [
        "#Ucitavanje biblioteka\n",
        "import pandas as pd\n",
        "import numpy as np\n",
        "from gensim.models import Word2Vec\n",
        "from google.colab import drive"
      ]
    },
    {
      "cell_type": "markdown",
      "source": [
        "## Mount-ovanje GDrive-a"
      ],
      "metadata": {
        "id": "eyah79-LlkVy"
      }
    },
    {
      "cell_type": "markdown",
      "source": [
        "Kliknuti na \"Connect to Google Drive\", izabrati user-a, pa kliknuti \"Allow\""
      ],
      "metadata": {
        "id": "1S8FVLGnnq8y"
      }
    },
    {
      "cell_type": "code",
      "source": [
        "drive.mount('/content/drive')"
      ],
      "metadata": {
        "colab": {
          "base_uri": "https://localhost:8080/"
        },
        "id": "4iO1OePElpDt",
        "outputId": "13fb7c5f-bb69-4f4a-be05-6ef8c9368ce1"
      },
      "execution_count": null,
      "outputs": [
        {
          "output_type": "stream",
          "name": "stdout",
          "text": [
            "Drive already mounted at /content/drive; to attempt to forcibly remount, call drive.mount(\"/content/drive\", force_remount=True).\n"
          ]
        }
      ]
    },
    {
      "cell_type": "markdown",
      "metadata": {
        "id": "XukwPk7QlVFq"
      },
      "source": [
        "## Ucitavanje Podataka"
      ]
    },
    {
      "cell_type": "markdown",
      "source": [
        "Na Google Drive-u napraviti folder w2v_data i smestiti tu file train.csv"
      ],
      "metadata": {
        "id": "BpiPf1hrn59O"
      }
    },
    {
      "cell_type": "code",
      "execution_count": null,
      "metadata": {
        "id": "03tNh-RQlVFs"
      },
      "outputs": [],
      "source": [
        "#Ucitavanje podataka \n",
        "#Putanja do CSV file-a\n",
        "train_path = '/content/drive/MyDrive/w2v_data/train.csv'\n",
        "\n",
        "#Kreiranje Pandas dataframe-a\n",
        "df =  pd.read_csv(train_path, parse_dates=['log_time'])\n",
        "\n",
        "#Konverzija 'product_id' kolone u tip string (kao reci za W2V model)\n",
        "df['product_id'] = df['product_id'].astype('int').astype('str')"
      ]
    },
    {
      "cell_type": "markdown",
      "metadata": {
        "id": "MCvfM6MqlVFt"
      },
      "source": [
        "## Analiza Dataset-a"
      ]
    },
    {
      "cell_type": "markdown",
      "metadata": {
        "id": "xrfWTvUslVFt"
      },
      "source": [
        "Znacenja kolona:\n",
        "- **session_id** - Jedinstven ID sesije. Jedna sesija podrazumeva jednu posetu sajtu jednog korisnika i pregledanje vise proizvoda.\n",
        "- **log_time** - Vreme gledanja proizvoda\n",
        "- **product_id** - Jedinstven ID proizvoda\n",
        "- **price** - Cena proizvoda\n",
        "- **cat_name** - Ime kategorije proizvoda"
      ]
    },
    {
      "cell_type": "code",
      "execution_count": null,
      "metadata": {
        "colab": {
          "base_uri": "https://localhost:8080/",
          "height": 363
        },
        "id": "splEdKhclVFu",
        "outputId": "4cee7122-5e5c-48ab-91de-1675cc2ce517"
      },
      "outputs": [
        {
          "output_type": "execute_result",
          "data": {
            "text/html": [
              "\n",
              "  <div id=\"df-b95ee79b-7f4d-49b8-8a3b-91952dd4cfe6\">\n",
              "    <div class=\"colab-df-container\">\n",
              "      <div>\n",
              "<style scoped>\n",
              "    .dataframe tbody tr th:only-of-type {\n",
              "        vertical-align: middle;\n",
              "    }\n",
              "\n",
              "    .dataframe tbody tr th {\n",
              "        vertical-align: top;\n",
              "    }\n",
              "\n",
              "    .dataframe thead th {\n",
              "        text-align: right;\n",
              "    }\n",
              "</style>\n",
              "<table border=\"1\" class=\"dataframe\">\n",
              "  <thead>\n",
              "    <tr style=\"text-align: right;\">\n",
              "      <th></th>\n",
              "      <th>session_id</th>\n",
              "      <th>log_time</th>\n",
              "      <th>product_id</th>\n",
              "      <th>price</th>\n",
              "      <th>cat_name</th>\n",
              "    </tr>\n",
              "  </thead>\n",
              "  <tbody>\n",
              "    <tr>\n",
              "      <th>0</th>\n",
              "      <td>g66e0tjr7s5qrgojd7tregs1c1</td>\n",
              "      <td>2021-03-09 13:46:58</td>\n",
              "      <td>6291</td>\n",
              "      <td>23.24</td>\n",
              "      <td>Šolje i čajnici</td>\n",
              "    </tr>\n",
              "    <tr>\n",
              "      <th>1</th>\n",
              "      <td>asmovt9e9v4iok6ldl6s63gmr6</td>\n",
              "      <td>2021-03-09 13:47:50</td>\n",
              "      <td>6291</td>\n",
              "      <td>23.24</td>\n",
              "      <td>Šolje i čajnici</td>\n",
              "    </tr>\n",
              "    <tr>\n",
              "      <th>2</th>\n",
              "      <td>jkvi9skjtb0g4tchoo602r2ur6</td>\n",
              "      <td>2021-03-09 13:50:25</td>\n",
              "      <td>6287</td>\n",
              "      <td>23.24</td>\n",
              "      <td>Setovi za kafu</td>\n",
              "    </tr>\n",
              "    <tr>\n",
              "      <th>3</th>\n",
              "      <td>jkvi9skjtb0g4tchoo602r2ur6</td>\n",
              "      <td>2021-03-09 14:00:42</td>\n",
              "      <td>6285</td>\n",
              "      <td>23.24</td>\n",
              "      <td>Setovi za kafu</td>\n",
              "    </tr>\n",
              "    <tr>\n",
              "      <th>4</th>\n",
              "      <td>58qtdis95hk0jovnassa28t1t2</td>\n",
              "      <td>2021-03-09 14:02:56</td>\n",
              "      <td>9448</td>\n",
              "      <td>5.99</td>\n",
              "      <td>Setovi za kafu</td>\n",
              "    </tr>\n",
              "    <tr>\n",
              "      <th>5</th>\n",
              "      <td>58qtdis95hk0jovnassa28t1t2</td>\n",
              "      <td>2021-03-09 14:05:27</td>\n",
              "      <td>9452</td>\n",
              "      <td>5.99</td>\n",
              "      <td>Setovi za kafu</td>\n",
              "    </tr>\n",
              "    <tr>\n",
              "      <th>6</th>\n",
              "      <td>g66e0tjr7s5qrgojd7tregs1c1</td>\n",
              "      <td>2021-03-09 14:12:40</td>\n",
              "      <td>7334</td>\n",
              "      <td>13.12</td>\n",
              "      <td>Šerpe i lonci</td>\n",
              "    </tr>\n",
              "    <tr>\n",
              "      <th>7</th>\n",
              "      <td>8bo3k75kkr270pakqjjfk49j15</td>\n",
              "      <td>2021-03-09 14:16:34</td>\n",
              "      <td>9448</td>\n",
              "      <td>5.99</td>\n",
              "      <td>Setovi za kafu</td>\n",
              "    </tr>\n",
              "    <tr>\n",
              "      <th>8</th>\n",
              "      <td>8bo3k75kkr270pakqjjfk49j15</td>\n",
              "      <td>2021-03-09 14:17:06</td>\n",
              "      <td>9451</td>\n",
              "      <td>5.99</td>\n",
              "      <td>Setovi za kafu</td>\n",
              "    </tr>\n",
              "    <tr>\n",
              "      <th>9</th>\n",
              "      <td>vev9gf4js669m1bn96g6041lq5</td>\n",
              "      <td>2021-03-09 14:17:15</td>\n",
              "      <td>1921</td>\n",
              "      <td>26.45</td>\n",
              "      <td>Šerpe i lonci</td>\n",
              "    </tr>\n",
              "  </tbody>\n",
              "</table>\n",
              "</div>\n",
              "      <button class=\"colab-df-convert\" onclick=\"convertToInteractive('df-b95ee79b-7f4d-49b8-8a3b-91952dd4cfe6')\"\n",
              "              title=\"Convert this dataframe to an interactive table.\"\n",
              "              style=\"display:none;\">\n",
              "        \n",
              "  <svg xmlns=\"http://www.w3.org/2000/svg\" height=\"24px\"viewBox=\"0 0 24 24\"\n",
              "       width=\"24px\">\n",
              "    <path d=\"M0 0h24v24H0V0z\" fill=\"none\"/>\n",
              "    <path d=\"M18.56 5.44l.94 2.06.94-2.06 2.06-.94-2.06-.94-.94-2.06-.94 2.06-2.06.94zm-11 1L8.5 8.5l.94-2.06 2.06-.94-2.06-.94L8.5 2.5l-.94 2.06-2.06.94zm10 10l.94 2.06.94-2.06 2.06-.94-2.06-.94-.94-2.06-.94 2.06-2.06.94z\"/><path d=\"M17.41 7.96l-1.37-1.37c-.4-.4-.92-.59-1.43-.59-.52 0-1.04.2-1.43.59L10.3 9.45l-7.72 7.72c-.78.78-.78 2.05 0 2.83L4 21.41c.39.39.9.59 1.41.59.51 0 1.02-.2 1.41-.59l7.78-7.78 2.81-2.81c.8-.78.8-2.07 0-2.86zM5.41 20L4 18.59l7.72-7.72 1.47 1.35L5.41 20z\"/>\n",
              "  </svg>\n",
              "      </button>\n",
              "      \n",
              "  <style>\n",
              "    .colab-df-container {\n",
              "      display:flex;\n",
              "      flex-wrap:wrap;\n",
              "      gap: 12px;\n",
              "    }\n",
              "\n",
              "    .colab-df-convert {\n",
              "      background-color: #E8F0FE;\n",
              "      border: none;\n",
              "      border-radius: 50%;\n",
              "      cursor: pointer;\n",
              "      display: none;\n",
              "      fill: #1967D2;\n",
              "      height: 32px;\n",
              "      padding: 0 0 0 0;\n",
              "      width: 32px;\n",
              "    }\n",
              "\n",
              "    .colab-df-convert:hover {\n",
              "      background-color: #E2EBFA;\n",
              "      box-shadow: 0px 1px 2px rgba(60, 64, 67, 0.3), 0px 1px 3px 1px rgba(60, 64, 67, 0.15);\n",
              "      fill: #174EA6;\n",
              "    }\n",
              "\n",
              "    [theme=dark] .colab-df-convert {\n",
              "      background-color: #3B4455;\n",
              "      fill: #D2E3FC;\n",
              "    }\n",
              "\n",
              "    [theme=dark] .colab-df-convert:hover {\n",
              "      background-color: #434B5C;\n",
              "      box-shadow: 0px 1px 3px 1px rgba(0, 0, 0, 0.15);\n",
              "      filter: drop-shadow(0px 1px 2px rgba(0, 0, 0, 0.3));\n",
              "      fill: #FFFFFF;\n",
              "    }\n",
              "  </style>\n",
              "\n",
              "      <script>\n",
              "        const buttonEl =\n",
              "          document.querySelector('#df-b95ee79b-7f4d-49b8-8a3b-91952dd4cfe6 button.colab-df-convert');\n",
              "        buttonEl.style.display =\n",
              "          google.colab.kernel.accessAllowed ? 'block' : 'none';\n",
              "\n",
              "        async function convertToInteractive(key) {\n",
              "          const element = document.querySelector('#df-b95ee79b-7f4d-49b8-8a3b-91952dd4cfe6');\n",
              "          const dataTable =\n",
              "            await google.colab.kernel.invokeFunction('convertToInteractive',\n",
              "                                                     [key], {});\n",
              "          if (!dataTable) return;\n",
              "\n",
              "          const docLinkHtml = 'Like what you see? Visit the ' +\n",
              "            '<a target=\"_blank\" href=https://colab.research.google.com/notebooks/data_table.ipynb>data table notebook</a>'\n",
              "            + ' to learn more about interactive tables.';\n",
              "          element.innerHTML = '';\n",
              "          dataTable['output_type'] = 'display_data';\n",
              "          await google.colab.output.renderOutput(dataTable, element);\n",
              "          const docLink = document.createElement('div');\n",
              "          docLink.innerHTML = docLinkHtml;\n",
              "          element.appendChild(docLink);\n",
              "        }\n",
              "      </script>\n",
              "    </div>\n",
              "  </div>\n",
              "  "
            ],
            "text/plain": [
              "                   session_id            log_time product_id  price  \\\n",
              "0  g66e0tjr7s5qrgojd7tregs1c1 2021-03-09 13:46:58       6291  23.24   \n",
              "1  asmovt9e9v4iok6ldl6s63gmr6 2021-03-09 13:47:50       6291  23.24   \n",
              "2  jkvi9skjtb0g4tchoo602r2ur6 2021-03-09 13:50:25       6287  23.24   \n",
              "3  jkvi9skjtb0g4tchoo602r2ur6 2021-03-09 14:00:42       6285  23.24   \n",
              "4  58qtdis95hk0jovnassa28t1t2 2021-03-09 14:02:56       9448   5.99   \n",
              "5  58qtdis95hk0jovnassa28t1t2 2021-03-09 14:05:27       9452   5.99   \n",
              "6  g66e0tjr7s5qrgojd7tregs1c1 2021-03-09 14:12:40       7334  13.12   \n",
              "7  8bo3k75kkr270pakqjjfk49j15 2021-03-09 14:16:34       9448   5.99   \n",
              "8  8bo3k75kkr270pakqjjfk49j15 2021-03-09 14:17:06       9451   5.99   \n",
              "9  vev9gf4js669m1bn96g6041lq5 2021-03-09 14:17:15       1921  26.45   \n",
              "\n",
              "          cat_name  \n",
              "0  Šolje i čajnici  \n",
              "1  Šolje i čajnici  \n",
              "2   Setovi za kafu  \n",
              "3   Setovi za kafu  \n",
              "4   Setovi za kafu  \n",
              "5   Setovi za kafu  \n",
              "6    Šerpe i lonci  \n",
              "7   Setovi za kafu  \n",
              "8   Setovi za kafu  \n",
              "9    Šerpe i lonci  "
            ]
          },
          "metadata": {},
          "execution_count": 91
        }
      ],
      "source": [
        "#Prvih 10 redova tabele\n",
        "df.head(10)"
      ]
    },
    {
      "cell_type": "code",
      "execution_count": null,
      "metadata": {
        "colab": {
          "base_uri": "https://localhost:8080/"
        },
        "id": "ANMgWOAElVFv",
        "outputId": "f61d4edd-7a08-43b9-b83e-58dfa4542dc7"
      },
      "outputs": [
        {
          "output_type": "stream",
          "name": "stdout",
          "text": [
            "Broj redova table: 45679\n"
          ]
        }
      ],
      "source": [
        "#Broj redova tabele (pregleda razlicitih proizvoda)\n",
        "nrows = len(df)\n",
        "print('Broj redova table: {}'.format(nrows))"
      ]
    },
    {
      "cell_type": "code",
      "execution_count": null,
      "metadata": {
        "colab": {
          "base_uri": "https://localhost:8080/"
        },
        "id": "Ik8V5z-wlVFw",
        "outputId": "195f4578-0ff5-46b2-dff7-152836c1b38b"
      },
      "outputs": [
        {
          "output_type": "stream",
          "name": "stdout",
          "text": [
            "Broj razlicitih sesija: 12342\n"
          ]
        }
      ],
      "source": [
        "#Broj razlicitih sesija \n",
        "nsessions = df['session_id'].nunique()\n",
        "print('Broj razlicitih sesija: {}'.format(nsessions))"
      ]
    },
    {
      "cell_type": "code",
      "execution_count": null,
      "metadata": {
        "colab": {
          "base_uri": "https://localhost:8080/"
        },
        "id": "d4rpI8WtlVFy",
        "outputId": "77d84d11-e1c5-4627-c190-9d4ddaec20e2"
      },
      "outputs": [
        {
          "output_type": "stream",
          "name": "stdout",
          "text": [
            "Broj razlicitih poizvoda: 100\n"
          ]
        }
      ],
      "source": [
        "#Zadatak - Broj razlicitih prozvoda \n",
        "nproducts = df['product_id'].nunique()\n",
        "print('Broj razlicitih poizvoda: {}'.format(nproducts))"
      ]
    },
    {
      "cell_type": "code",
      "execution_count": null,
      "metadata": {
        "colab": {
          "base_uri": "https://localhost:8080/"
        },
        "id": "zlPwMcxhlVFz",
        "outputId": "6756608a-2c95-42a3-ec37-2fdadef19d62"
      },
      "outputs": [
        {
          "output_type": "execute_result",
          "data": {
            "text/plain": [
              "9528     1299\n",
              "10335    1283\n",
              "328      1260\n",
              "10339    1174\n",
              "10332     944\n",
              "10764     908\n",
              "10331     888\n",
              "10767     858\n",
              "8874      856\n",
              "2339      831\n",
              "Name: product_id, dtype: int64"
            ]
          },
          "metadata": {},
          "execution_count": 95
        }
      ],
      "source": [
        "#10 proizvoda sa najvecim brojem pregleda i broj pregleda\n",
        "df['product_id'].value_counts()[:10]"
      ]
    },
    {
      "cell_type": "code",
      "execution_count": null,
      "metadata": {
        "colab": {
          "base_uri": "https://localhost:8080/"
        },
        "id": "6frntf1VlVFx",
        "outputId": "ac1df760-c1d7-4b41-c8f4-e76fb9576163"
      },
      "outputs": [
        {
          "output_type": "stream",
          "name": "stdout",
          "text": [
            "Period od 2021-03-09 13:46:58 do 2022-02-26 23:35:02\n"
          ]
        }
      ],
      "source": [
        "#Vremenski period \n",
        "start_time = df['log_time'].min()\n",
        "end_time = df['log_time'].max()\n",
        "\n",
        "print('Period od {} do {}'.format(start_time, end_time))"
      ]
    },
    {
      "cell_type": "code",
      "execution_count": null,
      "metadata": {
        "colab": {
          "base_uri": "https://localhost:8080/"
        },
        "id": "LaECxYkflVFy",
        "outputId": "8164c75f-9b0f-41a0-96b9-e58d2c88dea9"
      },
      "outputs": [
        {
          "output_type": "stream",
          "name": "stdout",
          "text": [
            "Cena od 2.99 do 546.21\n"
          ]
        }
      ],
      "source": [
        "#Zadatak - Minimalna i maksimalna cena \n",
        "min_price = df['price'].min()\n",
        "max_price = df['price'].max()\n",
        "\n",
        "print('Cena od {} do {}'.format(min_price, max_price))"
      ]
    },
    {
      "cell_type": "code",
      "execution_count": null,
      "metadata": {
        "colab": {
          "base_uri": "https://localhost:8080/"
        },
        "id": "G3C7-yazlVFz",
        "outputId": "a1a6a187-46bf-4c93-bb9e-a7f07e301c9a"
      },
      "outputs": [
        {
          "output_type": "stream",
          "name": "stdout",
          "text": [
            "Broj razlicitih kategorija: 26\n"
          ]
        }
      ],
      "source": [
        "#Broj razlicitih kategorija \n",
        "ncategories = df['cat_name'].nunique()\n",
        "print('Broj razlicitih kategorija: {}'.format(ncategories))"
      ]
    },
    {
      "cell_type": "code",
      "source": [
        "#Zadatak - 5 kategorija sa najvise pregled i broj pregleda\n",
        "df['cat_name'].value_counts()[:5]"
      ],
      "metadata": {
        "colab": {
          "base_uri": "https://localhost:8080/"
        },
        "id": "7bWxJFzwrJAB",
        "outputId": "55cd271e-0259-4e58-dcbf-60adecb59f35"
      },
      "execution_count": null,
      "outputs": [
        {
          "output_type": "execute_result",
          "data": {
            "text/plain": [
              "Setovi za kafu                              14535\n",
              "Servisi za ručavanje                        12150\n",
              "Šerpe i lonci                                4523\n",
              "Etažeri, tacne, činije, setovi za kolače     2572\n",
              "Setovi posuđa                                1548\n",
              "Name: cat_name, dtype: int64"
            ]
          },
          "metadata": {},
          "execution_count": 99
        }
      ]
    },
    {
      "cell_type": "markdown",
      "source": [
        "## Graficki prikaz podataka"
      ],
      "metadata": {
        "id": "zVDiikvyp1t_"
      }
    },
    {
      "cell_type": "code",
      "source": [
        "#Grafik koji pokazuje broj pregleda po kategoriji\n",
        "topl = df['cat_name'].value_counts()\n",
        "#Crtanje bar chart-a\n",
        "topl.plot(kind='bar', color='steelblue');"
      ],
      "metadata": {
        "colab": {
          "base_uri": "https://localhost:8080/",
          "height": 443
        },
        "id": "gNH1VEzjod6d",
        "outputId": "ca18f29f-4dbe-40f4-ebd2-a0da414b1e01"
      },
      "execution_count": null,
      "outputs": [
        {
          "output_type": "display_data",
          "data": {
            "image/png": "[encoded data removed]",
            "text/plain": [
              "<Figure size 432x288 with 1 Axes>"
            ]
          },
          "metadata": {
            "needs_background": "light"
          }
        }
      ]
    },
    {
      "cell_type": "code",
      "source": [
        "#Raspodela cena\n",
        "#Sacuvati samo jedan red po proizvodu\n",
        "topl = df.drop_duplicates(subset=['product_id'])\n",
        "#Selektovanje jedne kolone\n",
        "topl = topl[['price']]\n",
        "#Crtanje histograma (raspodele po vrednostima)\n",
        "topl.plot.hist(bins=30, color='orange');"
      ],
      "metadata": {
        "colab": {
          "base_uri": "https://localhost:8080/",
          "height": 265
        },
        "id": "sA8SiO0Cs8X-",
        "outputId": "403dfbe1-4fca-4bbb-ab3d-f234dd1dab8d"
      },
      "execution_count": null,
      "outputs": [
        {
          "output_type": "display_data",
          "data": {
            "image/png": "[encoded data removed]",
            "text/plain": [
              "<Figure size 432x288 with 1 Axes>"
            ]
          },
          "metadata": {
            "needs_background": "light"
          }
        }
      ]
    },
    {
      "cell_type": "code",
      "source": [
        "#Broj ukupnih pregeda po danu\n",
        "topl = df\n",
        "#Kolona za crtanje\n",
        "topl['count'] = 1\n",
        "#Postavlja se vreme za index\n",
        "topl = df.set_index('log_time')\n",
        "#Broj pregleda po dana - '1d'\n",
        "topl = topl.resample('1d').count()\n",
        "\n",
        "topl['count'].plot(kind='line', color='steelblue');"
      ],
      "metadata": {
        "colab": {
          "base_uri": "https://localhost:8080/",
          "height": 292
        },
        "id": "mqG1YLL-qJvB",
        "outputId": "bdd82558-da50-4c1a-ab41-1e3074589843"
      },
      "execution_count": null,
      "outputs": [
        {
          "output_type": "display_data",
          "data": {
            "image/png": "[encoded data removed]",
            "text/plain": [
              "<Figure size 432x288 with 1 Axes>"
            ]
          },
          "metadata": {
            "needs_background": "light"
          }
        }
      ]
    },
    {
      "cell_type": "code",
      "source": [
        "#Broj pregleda po danu u nedelji - Ponedeljak=0 ... Nedelja=6\n",
        "topl = df\n",
        "#Dan u nedelji\n",
        "topl['dayofweek'] = topl['log_time'].dt.dayofweek\n",
        "#Broj pregleda po danu u nedelji i sortiranje po danu u nedelji\n",
        "topl = topl['dayofweek'].value_counts().sort_index()\n",
        "\n",
        "topl.plot(kind='bar', color='orange');"
      ],
      "metadata": {
        "colab": {
          "base_uri": "https://localhost:8080/",
          "height": 262
        },
        "id": "70D_OEdqrNzg",
        "outputId": "8a47fb41-6096-44ca-bc2d-ecd78595879c"
      },
      "execution_count": null,
      "outputs": [
        {
          "output_type": "display_data",
          "data": {
            "image/png": "[encoded data removed]",
            "text/plain": [
              "<Figure size 432x288 with 1 Axes>"
            ]
          },
          "metadata": {
            "needs_background": "light"
          }
        }
      ]
    },
    {
      "cell_type": "markdown",
      "metadata": {
        "id": "OE603G8wlVF0"
      },
      "source": [
        "## Priprema Sekvenci"
      ]
    },
    {
      "cell_type": "code",
      "execution_count": null,
      "metadata": {
        "colab": {
          "base_uri": "https://localhost:8080/"
        },
        "id": "mLAa3ik0lVF0",
        "outputId": "885f4917-9229-4c2d-f86b-5a0521f00dee"
      },
      "outputs": [
        {
          "output_type": "stream",
          "name": "stdout",
          "text": [
            "Broj sekvenci za treniranje: 12342\n"
          ]
        }
      ],
      "source": [
        "#Za svaku sesiju dobijamo niz ID-va pregledanih proizvoda po redosledu geldanja\n",
        "#Sortiranje pregleda po vremenu\n",
        "df = df.sort_values('log_time')\n",
        "\n",
        "#Grupisanje po sesiji i pravljenje listi (sekvence)\n",
        "sessions = df.groupby('session_id')['product_id'].apply(list)\n",
        "\n",
        "print('Broj sekvenci za treniranje: {}'.format(len(sessions)))"
      ]
    },
    {
      "cell_type": "code",
      "execution_count": null,
      "metadata": {
        "colab": {
          "base_uri": "https://localhost:8080/"
        },
        "id": "CufCd3ExlVF1",
        "outputId": "299f954e-26b9-4a0c-bd6d-32fb761442f0"
      },
      "outputs": [
        {
          "output_type": "execute_result",
          "data": {
            "text/plain": [
              "session_id\n",
              "005dqg9qpcc1h169liebd8nmh5              [10411, 10413]\n",
              "0099va48td37ltqa5p9hrhdkf6          [9500, 7335, 9780]\n",
              "009ddn2npqeep5lie99ts72bt4        [10817, 8854, 10334]\n",
              "00cfd98coo5eptoq27gspqsfv4    [9528, 9528, 9528, 9528]\n",
              "00jlad83rv5k223dh82j6llgu1          [9529, 9529, 9529]\n",
              "Name: product_id, dtype: object"
            ]
          },
          "metadata": {},
          "execution_count": 105
        }
      ],
      "source": [
        "#Primer prvih 5 sekvenci (sesija) - brojevi u listi predstavljaju ID-eve proizvoda\n",
        "sessions[0:5]"
      ]
    },
    {
      "cell_type": "markdown",
      "metadata": {
        "id": "fKwTnwxOlVF2"
      },
      "source": [
        "## Treniranje W2V Modela"
      ]
    },
    {
      "cell_type": "code",
      "execution_count": null,
      "metadata": {
        "id": "3-P-aaVqlVF2"
      },
      "outputs": [],
      "source": [
        "#Konstante\n",
        "#Duzina embedding vectora\n",
        "size = 32\n",
        "#Postavljanje seed-a za random generator zbog reproduktabilnosti eksperimenata\n",
        "seed = 13\n",
        "#Biranje skip-gram modela\n",
        "sg = 1\n",
        "\n",
        "#Kreiranje i treniranje model-a\n",
        "w2v = Word2Vec(sessions.values,  size=size,  seed=seed, sg=sg)"
      ]
    },
    {
      "cell_type": "markdown",
      "metadata": {
        "id": "BULbpKarlVF2"
      },
      "source": [
        "## Kreiranje preporuka"
      ]
    },
    {
      "cell_type": "code",
      "execution_count": null,
      "metadata": {
        "id": "ONW2x85QlVF2"
      },
      "outputs": [],
      "source": [
        "#ID jednog proizvoda\n",
        "product_id = '10411'"
      ]
    },
    {
      "cell_type": "code",
      "execution_count": null,
      "metadata": {
        "colab": {
          "base_uri": "https://localhost:8080/"
        },
        "id": "q9pnc3z3lVF3",
        "outputId": "b8987f12-126a-45b7-bb23-a25792c53b75"
      },
      "outputs": [
        {
          "output_type": "stream",
          "name": "stdout",
          "text": [
            "Duzina vektora: 32\n",
            "Vektor:\n",
            "[ 0.6889399   0.10622898 -0.00826207 -0.30708575 -0.155947    0.30605543\n",
            "  0.24279216 -0.52173185 -0.13524418 -0.47118968  0.48703593  0.5035826\n",
            "  0.7144627  -0.16006586 -0.23126048 -0.30163094  0.34106746 -0.04758273\n",
            "  0.28407255 -0.2094405  -0.17837988 -0.4058812   0.10000584  0.09980793\n",
            "  0.07233538 -0.92489916  0.06025057  0.17596251  0.40952912  0.4571092\n",
            " -0.6565966   0.1991431 ]\n"
          ]
        }
      ],
      "source": [
        "#Primer jednog vektora\n",
        "vec = w2v.wv[product_id]\n",
        "print('Duzina vektora: {}\\nVektor:\\n{}'.format(len(vec), vec))"
      ]
    },
    {
      "cell_type": "code",
      "execution_count": null,
      "metadata": {
        "scrolled": true,
        "colab": {
          "base_uri": "https://localhost:8080/"
        },
        "id": "x5_GhftJlVF3",
        "outputId": "21224eb2-3752-4f33-f824-b1da059903e5"
      },
      "outputs": [
        {
          "output_type": "execute_result",
          "data": {
            "text/plain": [
              "[('10412', 0.9804485440254211),\n",
              " ('5904', 0.9377164840698242),\n",
              " ('9528', 0.9116204977035522),\n",
              " ('9770', 0.8850266337394714),\n",
              " ('9361', 0.8118312954902649)]"
            ]
          },
          "metadata": {},
          "execution_count": 109
        }
      ],
      "source": [
        "#5 najslicnijih proizvoda  za proizvod '10411'\n",
        "#ID Proizvoda/ Mera Slicnosti na osnovu kosinusne slicnosti embedding vektora\n",
        "w2v.wv.most_similar(product_id, topn=5)"
      ]
    },
    {
      "cell_type": "code",
      "execution_count": null,
      "metadata": {
        "colab": {
          "base_uri": "https://localhost:8080/",
          "height": 363
        },
        "id": "cCRh6xBslVF3",
        "outputId": "31259c8b-c0ab-452e-e058-e8ee92d8b62a"
      },
      "outputs": [
        {
          "output_type": "execute_result",
          "data": {
            "text/html": [
              "\n",
              "  <div id=\"df-1f3f5f97-9191-469c-ad64-517c849a4b17\">\n",
              "    <div class=\"colab-df-container\">\n",
              "      <div>\n",
              "<style scoped>\n",
              "    .dataframe tbody tr th:only-of-type {\n",
              "        vertical-align: middle;\n",
              "    }\n",
              "\n",
              "    .dataframe tbody tr th {\n",
              "        vertical-align: top;\n",
              "    }\n",
              "\n",
              "    .dataframe thead th {\n",
              "        text-align: right;\n",
              "    }\n",
              "</style>\n",
              "<table border=\"1\" class=\"dataframe\">\n",
              "  <thead>\n",
              "    <tr style=\"text-align: right;\">\n",
              "      <th></th>\n",
              "      <th>product_id</th>\n",
              "      <th>recommended_id</th>\n",
              "      <th>rank</th>\n",
              "    </tr>\n",
              "  </thead>\n",
              "  <tbody>\n",
              "    <tr>\n",
              "      <th>0</th>\n",
              "      <td>6291</td>\n",
              "      <td>6286</td>\n",
              "      <td>1</td>\n",
              "    </tr>\n",
              "    <tr>\n",
              "      <th>1</th>\n",
              "      <td>6291</td>\n",
              "      <td>6287</td>\n",
              "      <td>2</td>\n",
              "    </tr>\n",
              "    <tr>\n",
              "      <th>2</th>\n",
              "      <td>6291</td>\n",
              "      <td>6288</td>\n",
              "      <td>3</td>\n",
              "    </tr>\n",
              "    <tr>\n",
              "      <th>3</th>\n",
              "      <td>6291</td>\n",
              "      <td>6285</td>\n",
              "      <td>4</td>\n",
              "    </tr>\n",
              "    <tr>\n",
              "      <th>4</th>\n",
              "      <td>6291</td>\n",
              "      <td>10341</td>\n",
              "      <td>5</td>\n",
              "    </tr>\n",
              "    <tr>\n",
              "      <th>0</th>\n",
              "      <td>6287</td>\n",
              "      <td>6288</td>\n",
              "      <td>1</td>\n",
              "    </tr>\n",
              "    <tr>\n",
              "      <th>1</th>\n",
              "      <td>6287</td>\n",
              "      <td>6286</td>\n",
              "      <td>2</td>\n",
              "    </tr>\n",
              "    <tr>\n",
              "      <th>2</th>\n",
              "      <td>6287</td>\n",
              "      <td>6285</td>\n",
              "      <td>3</td>\n",
              "    </tr>\n",
              "    <tr>\n",
              "      <th>3</th>\n",
              "      <td>6287</td>\n",
              "      <td>6291</td>\n",
              "      <td>4</td>\n",
              "    </tr>\n",
              "    <tr>\n",
              "      <th>4</th>\n",
              "      <td>6287</td>\n",
              "      <td>10341</td>\n",
              "      <td>5</td>\n",
              "    </tr>\n",
              "  </tbody>\n",
              "</table>\n",
              "</div>\n",
              "      <button class=\"colab-df-convert\" onclick=\"convertToInteractive('df-1f3f5f97-9191-469c-ad64-517c849a4b17')\"\n",
              "              title=\"Convert this dataframe to an interactive table.\"\n",
              "              style=\"display:none;\">\n",
              "        \n",
              "  <svg xmlns=\"http://www.w3.org/2000/svg\" height=\"24px\"viewBox=\"0 0 24 24\"\n",
              "       width=\"24px\">\n",
              "    <path d=\"M0 0h24v24H0V0z\" fill=\"none\"/>\n",
              "    <path d=\"M18.56 5.44l.94 2.06.94-2.06 2.06-.94-2.06-.94-.94-2.06-.94 2.06-2.06.94zm-11 1L8.5 8.5l.94-2.06 2.06-.94-2.06-.94L8.5 2.5l-.94 2.06-2.06.94zm10 10l.94 2.06.94-2.06 2.06-.94-2.06-.94-.94-2.06-.94 2.06-2.06.94z\"/><path d=\"M17.41 7.96l-1.37-1.37c-.4-.4-.92-.59-1.43-.59-.52 0-1.04.2-1.43.59L10.3 9.45l-7.72 7.72c-.78.78-.78 2.05 0 2.83L4 21.41c.39.39.9.59 1.41.59.51 0 1.02-.2 1.41-.59l7.78-7.78 2.81-2.81c.8-.78.8-2.07 0-2.86zM5.41 20L4 18.59l7.72-7.72 1.47 1.35L5.41 20z\"/>\n",
              "  </svg>\n",
              "      </button>\n",
              "      \n",
              "  <style>\n",
              "    .colab-df-container {\n",
              "      display:flex;\n",
              "      flex-wrap:wrap;\n",
              "      gap: 12px;\n",
              "    }\n",
              "\n",
              "    .colab-df-convert {\n",
              "      background-color: #E8F0FE;\n",
              "      border: none;\n",
              "      border-radius: 50%;\n",
              "      cursor: pointer;\n",
              "      display: none;\n",
              "      fill: #1967D2;\n",
              "      height: 32px;\n",
              "      padding: 0 0 0 0;\n",
              "      width: 32px;\n",
              "    }\n",
              "\n",
              "    .colab-df-convert:hover {\n",
              "      background-color: #E2EBFA;\n",
              "      box-shadow: 0px 1px 2px rgba(60, 64, 67, 0.3), 0px 1px 3px 1px rgba(60, 64, 67, 0.15);\n",
              "      fill: #174EA6;\n",
              "    }\n",
              "\n",
              "    [theme=dark] .colab-df-convert {\n",
              "      background-color: #3B4455;\n",
              "      fill: #D2E3FC;\n",
              "    }\n",
              "\n",
              "    [theme=dark] .colab-df-convert:hover {\n",
              "      background-color: #434B5C;\n",
              "      box-shadow: 0px 1px 3px 1px rgba(0, 0, 0, 0.15);\n",
              "      filter: drop-shadow(0px 1px 2px rgba(0, 0, 0, 0.3));\n",
              "      fill: #FFFFFF;\n",
              "    }\n",
              "  </style>\n",
              "\n",
              "      <script>\n",
              "        const buttonEl =\n",
              "          document.querySelector('#df-1f3f5f97-9191-469c-ad64-517c849a4b17 button.colab-df-convert');\n",
              "        buttonEl.style.display =\n",
              "          google.colab.kernel.accessAllowed ? 'block' : 'none';\n",
              "\n",
              "        async function convertToInteractive(key) {\n",
              "          const element = document.querySelector('#df-1f3f5f97-9191-469c-ad64-517c849a4b17');\n",
              "          const dataTable =\n",
              "            await google.colab.kernel.invokeFunction('convertToInteractive',\n",
              "                                                     [key], {});\n",
              "          if (!dataTable) return;\n",
              "\n",
              "          const docLinkHtml = 'Like what you see? Visit the ' +\n",
              "            '<a target=\"_blank\" href=https://colab.research.google.com/notebooks/data_table.ipynb>data table notebook</a>'\n",
              "            + ' to learn more about interactive tables.';\n",
              "          element.innerHTML = '';\n",
              "          dataTable['output_type'] = 'display_data';\n",
              "          await google.colab.output.renderOutput(dataTable, element);\n",
              "          const docLink = document.createElement('div');\n",
              "          docLink.innerHTML = docLinkHtml;\n",
              "          element.appendChild(docLink);\n",
              "        }\n",
              "      </script>\n",
              "    </div>\n",
              "  </div>\n",
              "  "
            ],
            "text/plain": [
              "  product_id recommended_id  rank\n",
              "0       6291           6286     1\n",
              "1       6291           6287     2\n",
              "2       6291           6288     3\n",
              "3       6291           6285     4\n",
              "4       6291          10341     5\n",
              "0       6287           6288     1\n",
              "1       6287           6286     2\n",
              "2       6287           6285     3\n",
              "3       6287           6291     4\n",
              "4       6287          10341     5"
            ]
          },
          "metadata": {},
          "execution_count": 110
        }
      ],
      "source": [
        "#Kreiranje 5 preporuka za svaki proizvod\n",
        "#Kod je malo komplikovaniji. Preskociti razmatranje samog koda funkcije.\n",
        "def create_recommendations(df, w2v, num_recommendations=5):\n",
        "        #Recommender\n",
        "        rec_cols = ['product_id', 'recommended_id', 'rank']\n",
        "        recommendations_list = []\n",
        "\n",
        "        #All products\n",
        "        all_products = df['product_id'].unique()\n",
        "\n",
        "        for prd in all_products:\n",
        "            #Check if product is in vocabulary\n",
        "            if not prd in w2v.wv.vocab:\n",
        "                continue\n",
        "            #Get recommendations\n",
        "            topn = w2v.wv.most_similar(prd, topn=num_recommendations)\n",
        "            topn = pd.DataFrame(topn, columns = ['recommended_id', 'similarity'])\n",
        "            #Product_id\n",
        "            topn['product_id'] = prd\n",
        "            #Add rank\n",
        "            topn['rank'] = np.arange(1, num_recommendations + 1)\n",
        "\n",
        "            #Add to list\n",
        "            recommendations_list.append(topn[rec_cols])\n",
        "\n",
        "        #Recommendations\n",
        "        recommendations = pd.concat(recommendations_list)\n",
        "\n",
        "        return recommendations\n",
        "    \n",
        "#Poziv funkcije - Kreiranje po 5 preporuka za svaki proizvod\n",
        "recomm = create_recommendations(df, w2v)\n",
        "\n",
        "#Privih 10 redova preporuka \n",
        "recomm.head(10)"
      ]
    },
    {
      "cell_type": "markdown",
      "source": [
        "Znacenja kolona:\n",
        "- product_id - Proizvod\n",
        "- recommended_id - Preporuceni proizvod \n",
        "- rank - Redosled preporucenih proizvoda dobijen po meri slicnosti"
      ],
      "metadata": {
        "id": "SPopl7RGvhp4"
      }
    },
    {
      "cell_type": "code",
      "execution_count": null,
      "metadata": {
        "colab": {
          "base_uri": "https://localhost:8080/"
        },
        "id": "VV_ExYPZlVF4",
        "outputId": "f93f767a-2dc8-478a-8335-43d8c3282548"
      },
      "outputs": [
        {
          "output_type": "execute_result",
          "data": {
            "text/plain": [
              "True"
            ]
          },
          "metadata": {},
          "execution_count": 111
        }
      ],
      "source": [
        "#Provera da je za svaki proizvod kreirano pet preporuka. Za svaki proizvod kreira se po 5 preporuka.\n",
        "df['product_id'].nunique() * 5 == len(recomm)"
      ]
    },
    {
      "cell_type": "markdown",
      "metadata": {
        "id": "wgHZI4lElVF5"
      },
      "source": [
        "## Analiza Preporuka"
      ]
    },
    {
      "cell_type": "code",
      "execution_count": null,
      "metadata": {
        "colab": {
          "base_uri": "https://localhost:8080/",
          "height": 363
        },
        "id": "Ckndu2YqlVF5",
        "outputId": "8710592e-c1e0-4402-d482-f5eb073b4d38"
      },
      "outputs": [
        {
          "output_type": "execute_result",
          "data": {
            "text/html": [
              "\n",
              "  <div id=\"df-80d53e29-94a8-486e-93ed-29e355ced18d\">\n",
              "    <div class=\"colab-df-container\">\n",
              "      <div>\n",
              "<style scoped>\n",
              "    .dataframe tbody tr th:only-of-type {\n",
              "        vertical-align: middle;\n",
              "    }\n",
              "\n",
              "    .dataframe tbody tr th {\n",
              "        vertical-align: top;\n",
              "    }\n",
              "\n",
              "    .dataframe thead th {\n",
              "        text-align: right;\n",
              "    }\n",
              "</style>\n",
              "<table border=\"1\" class=\"dataframe\">\n",
              "  <thead>\n",
              "    <tr style=\"text-align: right;\">\n",
              "      <th></th>\n",
              "      <th>product_id</th>\n",
              "      <th>recommended_id</th>\n",
              "      <th>rank</th>\n",
              "      <th>cat_name</th>\n",
              "      <th>cat_name_recomm</th>\n",
              "    </tr>\n",
              "  </thead>\n",
              "  <tbody>\n",
              "    <tr>\n",
              "      <th>125</th>\n",
              "      <td>1009</td>\n",
              "      <td>2508</td>\n",
              "      <td>1</td>\n",
              "      <td>Šerpe i lonci</td>\n",
              "      <td>Tiganji i tave</td>\n",
              "    </tr>\n",
              "    <tr>\n",
              "      <th>413</th>\n",
              "      <td>1009</td>\n",
              "      <td>1921</td>\n",
              "      <td>2</td>\n",
              "      <td>Šerpe i lonci</td>\n",
              "      <td>Šerpe i lonci</td>\n",
              "    </tr>\n",
              "    <tr>\n",
              "      <th>117</th>\n",
              "      <td>1009</td>\n",
              "      <td>1098</td>\n",
              "      <td>3</td>\n",
              "      <td>Šerpe i lonci</td>\n",
              "      <td>Setovi posuđa</td>\n",
              "    </tr>\n",
              "    <tr>\n",
              "      <th>349</th>\n",
              "      <td>1009</td>\n",
              "      <td>6790</td>\n",
              "      <td>4</td>\n",
              "      <td>Šerpe i lonci</td>\n",
              "      <td>Ostali kuhinjski aparati</td>\n",
              "    </tr>\n",
              "    <tr>\n",
              "      <th>104</th>\n",
              "      <td>1009</td>\n",
              "      <td>9500</td>\n",
              "      <td>5</td>\n",
              "      <td>Šerpe i lonci</td>\n",
              "      <td>Šerpe i lonci</td>\n",
              "    </tr>\n",
              "    <tr>\n",
              "      <th>308</th>\n",
              "      <td>10126</td>\n",
              "      <td>10129</td>\n",
              "      <td>1</td>\n",
              "      <td>Šerpe i lonci</td>\n",
              "      <td>Dječiji program</td>\n",
              "    </tr>\n",
              "    <tr>\n",
              "      <th>433</th>\n",
              "      <td>10126</td>\n",
              "      <td>11208</td>\n",
              "      <td>2</td>\n",
              "      <td>Šerpe i lonci</td>\n",
              "      <td>Šerpe i lonci</td>\n",
              "    </tr>\n",
              "    <tr>\n",
              "      <th>249</th>\n",
              "      <td>10126</td>\n",
              "      <td>9506</td>\n",
              "      <td>3</td>\n",
              "      <td>Šerpe i lonci</td>\n",
              "      <td>Džezve i čajnici</td>\n",
              "    </tr>\n",
              "    <tr>\n",
              "      <th>277</th>\n",
              "      <td>10126</td>\n",
              "      <td>2962</td>\n",
              "      <td>4</td>\n",
              "      <td>Šerpe i lonci</td>\n",
              "      <td>Dječiji program</td>\n",
              "    </tr>\n",
              "    <tr>\n",
              "      <th>422</th>\n",
              "      <td>10126</td>\n",
              "      <td>9124</td>\n",
              "      <td>5</td>\n",
              "      <td>Šerpe i lonci</td>\n",
              "      <td>Tiganji i tave</td>\n",
              "    </tr>\n",
              "  </tbody>\n",
              "</table>\n",
              "</div>\n",
              "      <button class=\"colab-df-convert\" onclick=\"convertToInteractive('df-80d53e29-94a8-486e-93ed-29e355ced18d')\"\n",
              "              title=\"Convert this dataframe to an interactive table.\"\n",
              "              style=\"display:none;\">\n",
              "        \n",
              "  <svg xmlns=\"http://www.w3.org/2000/svg\" height=\"24px\"viewBox=\"0 0 24 24\"\n",
              "       width=\"24px\">\n",
              "    <path d=\"M0 0h24v24H0V0z\" fill=\"none\"/>\n",
              "    <path d=\"M18.56 5.44l.94 2.06.94-2.06 2.06-.94-2.06-.94-.94-2.06-.94 2.06-2.06.94zm-11 1L8.5 8.5l.94-2.06 2.06-.94-2.06-.94L8.5 2.5l-.94 2.06-2.06.94zm10 10l.94 2.06.94-2.06 2.06-.94-2.06-.94-.94-2.06-.94 2.06-2.06.94z\"/><path d=\"M17.41 7.96l-1.37-1.37c-.4-.4-.92-.59-1.43-.59-.52 0-1.04.2-1.43.59L10.3 9.45l-7.72 7.72c-.78.78-.78 2.05 0 2.83L4 21.41c.39.39.9.59 1.41.59.51 0 1.02-.2 1.41-.59l7.78-7.78 2.81-2.81c.8-.78.8-2.07 0-2.86zM5.41 20L4 18.59l7.72-7.72 1.47 1.35L5.41 20z\"/>\n",
              "  </svg>\n",
              "      </button>\n",
              "      \n",
              "  <style>\n",
              "    .colab-df-container {\n",
              "      display:flex;\n",
              "      flex-wrap:wrap;\n",
              "      gap: 12px;\n",
              "    }\n",
              "\n",
              "    .colab-df-convert {\n",
              "      background-color: #E8F0FE;\n",
              "      border: none;\n",
              "      border-radius: 50%;\n",
              "      cursor: pointer;\n",
              "      display: none;\n",
              "      fill: #1967D2;\n",
              "      height: 32px;\n",
              "      padding: 0 0 0 0;\n",
              "      width: 32px;\n",
              "    }\n",
              "\n",
              "    .colab-df-convert:hover {\n",
              "      background-color: #E2EBFA;\n",
              "      box-shadow: 0px 1px 2px rgba(60, 64, 67, 0.3), 0px 1px 3px 1px rgba(60, 64, 67, 0.15);\n",
              "      fill: #174EA6;\n",
              "    }\n",
              "\n",
              "    [theme=dark] .colab-df-convert {\n",
              "      background-color: #3B4455;\n",
              "      fill: #D2E3FC;\n",
              "    }\n",
              "\n",
              "    [theme=dark] .colab-df-convert:hover {\n",
              "      background-color: #434B5C;\n",
              "      box-shadow: 0px 1px 3px 1px rgba(0, 0, 0, 0.15);\n",
              "      filter: drop-shadow(0px 1px 2px rgba(0, 0, 0, 0.3));\n",
              "      fill: #FFFFFF;\n",
              "    }\n",
              "  </style>\n",
              "\n",
              "      <script>\n",
              "        const buttonEl =\n",
              "          document.querySelector('#df-80d53e29-94a8-486e-93ed-29e355ced18d button.colab-df-convert');\n",
              "        buttonEl.style.display =\n",
              "          google.colab.kernel.accessAllowed ? 'block' : 'none';\n",
              "\n",
              "        async function convertToInteractive(key) {\n",
              "          const element = document.querySelector('#df-80d53e29-94a8-486e-93ed-29e355ced18d');\n",
              "          const dataTable =\n",
              "            await google.colab.kernel.invokeFunction('convertToInteractive',\n",
              "                                                     [key], {});\n",
              "          if (!dataTable) return;\n",
              "\n",
              "          const docLinkHtml = 'Like what you see? Visit the ' +\n",
              "            '<a target=\"_blank\" href=https://colab.research.google.com/notebooks/data_table.ipynb>data table notebook</a>'\n",
              "            + ' to learn more about interactive tables.';\n",
              "          element.innerHTML = '';\n",
              "          dataTable['output_type'] = 'display_data';\n",
              "          await google.colab.output.renderOutput(dataTable, element);\n",
              "          const docLink = document.createElement('div');\n",
              "          docLink.innerHTML = docLinkHtml;\n",
              "          element.appendChild(docLink);\n",
              "        }\n",
              "      </script>\n",
              "    </div>\n",
              "  </div>\n",
              "  "
            ],
            "text/plain": [
              "    product_id recommended_id  rank       cat_name           cat_name_recomm\n",
              "125       1009           2508     1  Šerpe i lonci            Tiganji i tave\n",
              "413       1009           1921     2  Šerpe i lonci             Šerpe i lonci\n",
              "117       1009           1098     3  Šerpe i lonci             Setovi posuđa\n",
              "349       1009           6790     4  Šerpe i lonci  Ostali kuhinjski aparati\n",
              "104       1009           9500     5  Šerpe i lonci             Šerpe i lonci\n",
              "308      10126          10129     1  Šerpe i lonci           Dječiji program\n",
              "433      10126          11208     2  Šerpe i lonci             Šerpe i lonci\n",
              "249      10126           9506     3  Šerpe i lonci          Džezve i čajnici\n",
              "277      10126           2962     4  Šerpe i lonci           Dječiji program\n",
              "422      10126           9124     5  Šerpe i lonci            Tiganji i tave"
            ]
          },
          "metadata": {},
          "execution_count": 112
        }
      ],
      "source": [
        "#Dodavanje kategorija proizvoda u tabelu sa preoprukama\n",
        "#Kod je malo komplikovaniji. Preskociti razmatranje samog koda funkcije.\n",
        "def add_categories(df, recomm):\n",
        "    #Selektuju su dve kolone\n",
        "    categories = df[['product_id', 'cat_name']]\n",
        "    #Odbacuju se duplicirani redovi - Ostaje po jedna kategorija za svaki proizvod\n",
        "    categories = categories.drop_duplicates()\n",
        "    #Dodavanje kategorije za proizvod za koji se generise preporuka\n",
        "    recomm = pd.merge(recomm, categories, left_on='product_id', right_on='product_id', suffixes=('','_prod'))\n",
        "    #Dodavanje kategorije za preporuceni proizvod\n",
        "    recomm =  pd.merge(recomm, categories, left_on='recommended_id', right_on='product_id', suffixes=('','_recomm'))\n",
        "    #Odbacivanje suvisen kolone\n",
        "    recomm = recomm.drop(columns=['product_id_recomm'])\n",
        "    #Sortiranje po product_id-u i rank-u\n",
        "    recomm = recomm.sort_values(['product_id', 'rank'])\n",
        "    return recomm\n",
        "\n",
        "#Dodavanje kategorija proizvoda u tabelu sa preoprukama\n",
        "recomm = add_categories(df, recomm)\n",
        "\n",
        "#Prvih deset redova\n",
        "recomm.head(10)"
      ]
    },
    {
      "cell_type": "markdown",
      "source": [
        "Znacenja kolona:\n",
        "- product_id - Proizvod\n",
        "- recommended_id - Preporuceni proizvod \n",
        "- rank - Redosled preporucenih proizvoda dobijen po meri slicnosti\n",
        "- cat_name - Ime kategorije proizvoda\n",
        "- cat_name_recomm - Ime kategorije preporucenog proizvoda"
      ],
      "metadata": {
        "id": "VbWIog4qv7qk"
      }
    },
    {
      "cell_type": "code",
      "execution_count": null,
      "metadata": {
        "colab": {
          "base_uri": "https://localhost:8080/"
        },
        "id": "PN09VsD7lVF5",
        "outputId": "2dac82ce-c9d2-4088-b91b-6aee8973bbce"
      },
      "outputs": [
        {
          "output_type": "execute_result",
          "data": {
            "text/plain": [
              "9460     13\n",
              "9500     12\n",
              "7334     11\n",
              "5590     11\n",
              "9499     10\n",
              "9506     10\n",
              "5904     10\n",
              "10717    10\n",
              "9362      9\n",
              "9731      9\n",
              "Name: recommended_id, dtype: int64"
            ]
          },
          "metadata": {},
          "execution_count": 113
        }
      ],
      "source": [
        "#Zadatak - 10 najcesce preporucenih proizvoda i koliko puta su preporuceni\n",
        "recomm['recommended_id'].value_counts()[:10]"
      ]
    },
    {
      "cell_type": "code",
      "execution_count": null,
      "metadata": {
        "colab": {
          "base_uri": "https://localhost:8080/"
        },
        "id": "9uIH5vCRlVF5",
        "outputId": "36c3f4ce-68c8-49aa-ed4d-fbd13217db2c"
      },
      "outputs": [
        {
          "output_type": "stream",
          "name": "stdout",
          "text": [
            "Procenat preporuka iz iste kategorije: 56.60%\n"
          ]
        }
      ],
      "source": [
        "#Zadatak - Procenat preporuka iz iste kategorije \n",
        "#(preporuceni proizvod je iz iste kategorija kao proizvod za koji se daje preporuke)\n",
        "#Pomoc - Deo tabele koja ima jednake vrednosti u dve kolone se dobija kao df[df['c1'] == df['c2']]\n",
        "recomm_same_cat = recomm[recomm['cat_name'] == recomm['cat_name_recomm']]\n",
        "proc_same_cat =  len(recomm_same_cat)  / len(recomm) * 100\n",
        "print('Procenat preporuka iz iste kategorije: {:.2f}%'.format(proc_same_cat))"
      ]
    },
    {
      "cell_type": "code",
      "source": [
        ""
      ],
      "metadata": {
        "id": "C299DoNNu-i3"
      },
      "execution_count": null,
      "outputs": []
    },
    {
      "cell_type": "markdown",
      "source": [
        "## Bonus - TSNE Transformacija na W2V Embeding Vektorima"
      ],
      "metadata": {
        "id": "7CzrvWOPvCSg"
      }
    },
    {
      "cell_type": "code",
      "source": [
        "#Ucitavanje biblioteka\n",
        "from sklearn.manifold import TSNE\n",
        "from sklearn.metrics.pairwise import cosine_similarity\n",
        "import plotly.express as px"
      ],
      "metadata": {
        "id": "IqnO20LYvMBZ"
      },
      "execution_count": null,
      "outputs": []
    },
    {
      "cell_type": "code",
      "source": [
        "#Selektovanje proizvoda iz top 3 kategorija\n",
        "#Svi proizvodi i nihove kategorije\n",
        "prod_df = df.groupby('product_id')[['cat_name']].first()\n",
        "#Broj proizvoda po kategoriji\n",
        "cat_df = df.groupby('cat_name')[['count']].count()\n",
        "#3 kategorija sa najvise proizvoda\n",
        "cat_df = cat_df.sort_values('count', ascending=False)[0:3]\n",
        "#Proizvodi koji spadaju i tih 3 kategorija\n",
        "emb_df = pd.merge(prod_df, cat_df, left_on='cat_name', right_index=True)\n",
        "\n",
        "#Embedovanje proizoda u W2V vektore\n",
        "w2v_vectors = w2v.wv[emb_df.index]\n",
        "#TSNE transformavija\n",
        "w2v_vectors_emb = TSNE(learning_rate='auto', init='random').fit_transform(w2v_vectors)\n",
        "#Dodavanje x i y koordinate\n",
        "emb_df['x'] = w2v_vectors_emb[:,0]\n",
        "emb_df['y'] = w2v_vectors_emb[:,1]\n",
        "\n",
        "#Iscrtavanje embedovanih W2V vektora za proizvode sa primenjenom TSNE transformacijom\n",
        "px.scatter(emb_df, x='x', y='y', color='cat_name', width=820)"
      ],
      "metadata": {
        "colab": {
          "base_uri": "https://localhost:8080/",
          "height": 542
        },
        "id": "wY7ARdo9vZ2h",
        "outputId": "f6c4b2eb-3f98-40e2-b4ea-fae1955d454e"
      },
      "execution_count": null,
      "outputs": [
        {
          "output_type": "display_data",
          "data": {
            "text/html": [
              "<html>\n",
              "<head><meta charset=\"utf-8\" /></head>\n",
              "<body>\n",
              "    <div>            <script src=\"https://cdnjs.cloudflare.com/ajax/libs/mathjax/2.7.5/MathJax.js?config=TeX-AMS-MML_SVG\"></script><script type=\"text/javascript\">if (window.MathJax) {MathJax.Hub.Config({SVG: {font: \"STIX-Web\"}});}</script>                <script type=\"text/javascript\">window.PlotlyConfig = {MathJaxConfig: 'local'};</script>\n",
              "        <script src=\"https://cdn.plot.ly/plotly-2.8.3.min.js\"></script>                <div id=\"7a4b36f4-b67f-48fc-9586-b2720a44ac51\" class=\"plotly-graph-div\" style=\"height:525px; width:820px;\"></div>            <script type=\"text/javascript\">                                    window.PLOTLYENV=window.PLOTLYENV || {};                                    if (document.getElementById(\"7a4b36f4-b67f-48fc-9586-b2720a44ac51\")) {                    Plotly.newPlot(                        \"7a4b36f4-b67f-48fc-9586-b2720a44ac51\",                        [{\"hovertemplate\":\"cat_name=\\u0160erpe i lonci<br>x=%{x}<br>y=%{y}<extra></extra>\",\"legendgroup\":\"\\u0160erpe i lonci\",\"marker\":{\"color\":\"#636efa\",\"symbol\":\"circle\"},\"mode\":\"markers\",\"name\":\"\\u0160erpe i lonci\",\"orientation\":\"v\",\"showlegend\":true,\"x\":[-6.998257160186768,-6.49514102935791,-6.8865065574646,-6.784079551696777,-6.39873743057251,-6.786128520965576,-5.327850818634033,-5.138885498046875,-5.6087541580200195,-5.336058616638184,-6.131744384765625,-6.0309014320373535,-6.125794410705566],\"xaxis\":\"x\",\"y\":[2.3041234016418457,3.86959171295166,3.43757700920105,3.3115899562835693,3.450826644897461,2.1424341201782227,2.1802332401275635,2.0665364265441895,2.176847457885742,2.1155169010162354,2.7047955989837646,2.3966224193573,2.5946075916290283],\"yaxis\":\"y\",\"type\":\"scatter\"},{\"hovertemplate\":\"cat_name=Setovi za kafu<br>x=%{x}<br>y=%{y}<extra></extra>\",\"legendgroup\":\"Setovi za kafu\",\"marker\":{\"color\":\"#EF553B\",\"symbol\":\"circle\"},\"mode\":\"markers\",\"name\":\"Setovi za kafu\",\"orientation\":\"v\",\"showlegend\":true,\"x\":[-8.486166954040527,-8.615699768066406,-8.077280044555664,-7.9627485275268555,-8.084092140197754,-10.146918296813965,-10.28470230102539,-9.330416679382324,-10.072165489196777,-10.022737503051758,-10.29249095916748,-8.818389892578125,-6.982748031616211,-6.636263370513916,-6.663120269775391,-6.658458232879639,-8.69975471496582,-8.7125825881958,-8.705477714538574,-9.117319107055664,-9.996007919311523,-9.705738067626953,-9.269331932067871,-9.170757293701172],\"xaxis\":\"x\",\"y\":[0.5336915850639343,0.22301320731639862,0.41298189759254456,0.6143662333488464,0.354586660861969,-0.8570653796195984,-0.8866832852363586,-0.6636517643928528,0.06763146072626114,0.19054929912090302,0.278128445148468,-0.1286042034626007,-1.0823196172714233,-1.1221535205841064,-1.1351295709609985,-1.1486170291900635,-1.597914457321167,-1.5020716190338135,-1.394987940788269,-1.0418981313705444,-1.6244450807571411,-1.4670495986938477,-1.5650441646575928,-1.4208099842071533],\"yaxis\":\"y\",\"type\":\"scatter\"},{\"hovertemplate\":\"cat_name=Servisi za ru\\u010davanje<br>x=%{x}<br>y=%{y}<extra></extra>\",\"legendgroup\":\"Servisi za ru\\u010davanje\",\"marker\":{\"color\":\"#00cc96\",\"symbol\":\"circle\"},\"mode\":\"markers\",\"name\":\"Servisi za ru\\u010davanje\",\"orientation\":\"v\",\"showlegend\":true,\"x\":[-9.012350082397461,-8.686302185058594,-8.687137603759766,-10.445826530456543,-10.640534400939941,-10.554801940917969,-10.411988258361816,-10.05477237701416,-9.225468635559082,-10.03980541229248,-9.38146686553955,-9.364758491516113,-9.535449028015137,-9.48344898223877,-10.01654052734375,-9.673407554626465],\"xaxis\":\"x\",\"y\":[1.8075368404388428,1.809763789176941,1.6626259088516235,2.4708220958709717,2.5186352729797363,1.4449665546417236,1.4915897846221924,1.4449131488800049,2.021651029586792,2.5570573806762695,3.301953077316284,3.277326822280884,3.266692638397217,2.398465394973755,2.7157814502716064,2.9184885025024414],\"yaxis\":\"y\",\"type\":\"scatter\"}],                        {\"template\":{\"data\":{\"bar\":[{\"error_x\":{\"color\":\"#2a3f5f\"},\"error_y\":{\"color\":\"#2a3f5f\"},\"marker\":{\"line\":{\"color\":\"#E5ECF6\",\"width\":0.5},\"pattern\":{\"fillmode\":\"overlay\",\"size\":10,\"solidity\":0.2}},\"type\":\"bar\"}],\"barpolar\":[{\"marker\":{\"line\":{\"color\":\"#E5ECF6\",\"width\":0.5},\"pattern\":{\"fillmode\":\"overlay\",\"size\":10,\"solidity\":0.2}},\"type\":\"barpolar\"}],\"carpet\":[{\"aaxis\":{\"endlinecolor\":\"#2a3f5f\",\"gridcolor\":\"white\",\"linecolor\":\"white\",\"minorgridcolor\":\"white\",\"startlinecolor\":\"#2a3f5f\"},\"baxis\":{\"endlinecolor\":\"#2a3f5f\",\"gridcolor\":\"white\",\"linecolor\":\"white\",\"minorgridcolor\":\"white\",\"startlinecolor\":\"#2a3f5f\"},\"type\":\"carpet\"}],\"choropleth\":[{\"colorbar\":{\"outlinewidth\":0,\"ticks\":\"\"},\"type\":\"choropleth\"}],\"contour\":[{\"colorbar\":{\"outlinewidth\":0,\"ticks\":\"\"},\"colorscale\":[[0.0,\"#0d0887\"],[0.1111111111111111,\"#46039f\"],[0.2222222222222222,\"#7201a8\"],[0.3333333333333333,\"#9c179e\"],[0.4444444444444444,\"#bd3786\"],[0.5555555555555556,\"#d8576b\"],[0.6666666666666666,\"#ed7953\"],[0.7777777777777778,\"#fb9f3a\"],[0.8888888888888888,\"#fdca26\"],[1.0,\"#f0f921\"]],\"type\":\"contour\"}],\"contourcarpet\":[{\"colorbar\":{\"outlinewidth\":0,\"ticks\":\"\"},\"type\":\"contourcarpet\"}],\"heatmap\":[{\"colorbar\":{\"outlinewidth\":0,\"ticks\":\"\"},\"colorscale\":[[0.0,\"#0d0887\"],[0.1111111111111111,\"#46039f\"],[0.2222222222222222,\"#7201a8\"],[0.3333333333333333,\"#9c179e\"],[0.4444444444444444,\"#bd3786\"],[0.5555555555555556,\"#d8576b\"],[0.6666666666666666,\"#ed7953\"],[0.7777777777777778,\"#fb9f3a\"],[0.8888888888888888,\"#fdca26\"],[1.0,\"#f0f921\"]],\"type\":\"heatmap\"}],\"heatmapgl\":[{\"colorbar\":{\"outlinewidth\":0,\"ticks\":\"\"},\"colorscale\":[[0.0,\"#0d0887\"],[0.1111111111111111,\"#46039f\"],[0.2222222222222222,\"#7201a8\"],[0.3333333333333333,\"#9c179e\"],[0.4444444444444444,\"#bd3786\"],[0.5555555555555556,\"#d8576b\"],[0.6666666666666666,\"#ed7953\"],[0.7777777777777778,\"#fb9f3a\"],[0.8888888888888888,\"#fdca26\"],[1.0,\"#f0f921\"]],\"type\":\"heatmapgl\"}],\"histogram\":[{\"marker\":{\"pattern\":{\"fillmode\":\"overlay\",\"size\":10,\"solidity\":0.2}},\"type\":\"histogram\"}],\"histogram2d\":[{\"colorbar\":{\"outlinewidth\":0,\"ticks\":\"\"},\"colorscale\":[[0.0,\"#0d0887\"],[0.1111111111111111,\"#46039f\"],[0.2222222222222222,\"#7201a8\"],[0.3333333333333333,\"#9c179e\"],[0.4444444444444444,\"#bd3786\"],[0.5555555555555556,\"#d8576b\"],[0.6666666666666666,\"#ed7953\"],[0.7777777777777778,\"#fb9f3a\"],[0.8888888888888888,\"#fdca26\"],[1.0,\"#f0f921\"]],\"type\":\"histogram2d\"}],\"histogram2dcontour\":[{\"colorbar\":{\"outlinewidth\":0,\"ticks\":\"\"},\"colorscale\":[[0.0,\"#0d0887\"],[0.1111111111111111,\"#46039f\"],[0.2222222222222222,\"#7201a8\"],[0.3333333333333333,\"#9c179e\"],[0.4444444444444444,\"#bd3786\"],[0.5555555555555556,\"#d8576b\"],[0.6666666666666666,\"#ed7953\"],[0.7777777777777778,\"#fb9f3a\"],[0.8888888888888888,\"#fdca26\"],[1.0,\"#f0f921\"]],\"type\":\"histogram2dcontour\"}],\"mesh3d\":[{\"colorbar\":{\"outlinewidth\":0,\"ticks\":\"\"},\"type\":\"mesh3d\"}],\"parcoords\":[{\"line\":{\"colorbar\":{\"outlinewidth\":0,\"ticks\":\"\"}},\"type\":\"parcoords\"}],\"pie\":[{\"automargin\":true,\"type\":\"pie\"}],\"scatter\":[{\"marker\":{\"colorbar\":{\"outlinewidth\":0,\"ticks\":\"\"}},\"type\":\"scatter\"}],\"scatter3d\":[{\"line\":{\"colorbar\":{\"outlinewidth\":0,\"ticks\":\"\"}},\"marker\":{\"colorbar\":{\"outlinewidth\":0,\"ticks\":\"\"}},\"type\":\"scatter3d\"}],\"scattercarpet\":[{\"marker\":{\"colorbar\":{\"outlinewidth\":0,\"ticks\":\"\"}},\"type\":\"scattercarpet\"}],\"scattergeo\":[{\"marker\":{\"colorbar\":{\"outlinewidth\":0,\"ticks\":\"\"}},\"type\":\"scattergeo\"}],\"scattergl\":[{\"marker\":{\"colorbar\":{\"outlinewidth\":0,\"ticks\":\"\"}},\"type\":\"scattergl\"}],\"scattermapbox\":[{\"marker\":{\"colorbar\":{\"outlinewidth\":0,\"ticks\":\"\"}},\"type\":\"scattermapbox\"}],\"scatterpolar\":[{\"marker\":{\"colorbar\":{\"outlinewidth\":0,\"ticks\":\"\"}},\"type\":\"scatterpolar\"}],\"scatterpolargl\":[{\"marker\":{\"colorbar\":{\"outlinewidth\":0,\"ticks\":\"\"}},\"type\":\"scatterpolargl\"}],\"scatterternary\":[{\"marker\":{\"colorbar\":{\"outlinewidth\":0,\"ticks\":\"\"}},\"type\":\"scatterternary\"}],\"surface\":[{\"colorbar\":{\"outlinewidth\":0,\"ticks\":\"\"},\"colorscale\":[[0.0,\"#0d0887\"],[0.1111111111111111,\"#46039f\"],[0.2222222222222222,\"#7201a8\"],[0.3333333333333333,\"#9c179e\"],[0.4444444444444444,\"#bd3786\"],[0.5555555555555556,\"#d8576b\"],[0.6666666666666666,\"#ed7953\"],[0.7777777777777778,\"#fb9f3a\"],[0.8888888888888888,\"#fdca26\"],[1.0,\"#f0f921\"]],\"type\":\"surface\"}],\"table\":[{\"cells\":{\"fill\":{\"color\":\"#EBF0F8\"},\"line\":{\"color\":\"white\"}},\"header\":{\"fill\":{\"color\":\"#C8D4E3\"},\"line\":{\"color\":\"white\"}},\"type\":\"table\"}]},\"layout\":{\"annotationdefaults\":{\"arrowcolor\":\"#2a3f5f\",\"arrowhead\":0,\"arrowwidth\":1},\"autotypenumbers\":\"strict\",\"coloraxis\":{\"colorbar\":{\"outlinewidth\":0,\"ticks\":\"\"}},\"colorscale\":{\"diverging\":[[0,\"#8e0152\"],[0.1,\"#c51b7d\"],[0.2,\"#de77ae\"],[0.3,\"#f1b6da\"],[0.4,\"#fde0ef\"],[0.5,\"#f7f7f7\"],[0.6,\"#e6f5d0\"],[0.7,\"#b8e186\"],[0.8,\"#7fbc41\"],[0.9,\"#4d9221\"],[1,\"#276419\"]],\"sequential\":[[0.0,\"#0d0887\"],[0.1111111111111111,\"#46039f\"],[0.2222222222222222,\"#7201a8\"],[0.3333333333333333,\"#9c179e\"],[0.4444444444444444,\"#bd3786\"],[0.5555555555555556,\"#d8576b\"],[0.6666666666666666,\"#ed7953\"],[0.7777777777777778,\"#fb9f3a\"],[0.8888888888888888,\"#fdca26\"],[1.0,\"#f0f921\"]],\"sequentialminus\":[[0.0,\"#0d0887\"],[0.1111111111111111,\"#46039f\"],[0.2222222222222222,\"#7201a8\"],[0.3333333333333333,\"#9c179e\"],[0.4444444444444444,\"#bd3786\"],[0.5555555555555556,\"#d8576b\"],[0.6666666666666666,\"#ed7953\"],[0.7777777777777778,\"#fb9f3a\"],[0.8888888888888888,\"#fdca26\"],[1.0,\"#f0f921\"]]},\"colorway\":[\"#636efa\",\"#EF553B\",\"#00cc96\",\"#ab63fa\",\"#FFA15A\",\"#19d3f3\",\"#FF6692\",\"#B6E880\",\"#FF97FF\",\"#FECB52\"],\"font\":{\"color\":\"#2a3f5f\"},\"geo\":{\"bgcolor\":\"white\",\"lakecolor\":\"white\",\"landcolor\":\"#E5ECF6\",\"showlakes\":true,\"showland\":true,\"subunitcolor\":\"white\"},\"hoverlabel\":{\"align\":\"left\"},\"hovermode\":\"closest\",\"mapbox\":{\"style\":\"light\"},\"paper_bgcolor\":\"white\",\"plot_bgcolor\":\"#E5ECF6\",\"polar\":{\"angularaxis\":{\"gridcolor\":\"white\",\"linecolor\":\"white\",\"ticks\":\"\"},\"bgcolor\":\"#E5ECF6\",\"radialaxis\":{\"gridcolor\":\"white\",\"linecolor\":\"white\",\"ticks\":\"\"}},\"scene\":{\"xaxis\":{\"backgroundcolor\":\"#E5ECF6\",\"gridcolor\":\"white\",\"gridwidth\":2,\"linecolor\":\"white\",\"showbackground\":true,\"ticks\":\"\",\"zerolinecolor\":\"white\"},\"yaxis\":{\"backgroundcolor\":\"#E5ECF6\",\"gridcolor\":\"white\",\"gridwidth\":2,\"linecolor\":\"white\",\"showbackground\":true,\"ticks\":\"\",\"zerolinecolor\":\"white\"},\"zaxis\":{\"backgroundcolor\":\"#E5ECF6\",\"gridcolor\":\"white\",\"gridwidth\":2,\"linecolor\":\"white\",\"showbackground\":true,\"ticks\":\"\",\"zerolinecolor\":\"white\"}},\"shapedefaults\":{\"line\":{\"color\":\"#2a3f5f\"}},\"ternary\":{\"aaxis\":{\"gridcolor\":\"white\",\"linecolor\":\"white\",\"ticks\":\"\"},\"baxis\":{\"gridcolor\":\"white\",\"linecolor\":\"white\",\"ticks\":\"\"},\"bgcolor\":\"#E5ECF6\",\"caxis\":{\"gridcolor\":\"white\",\"linecolor\":\"white\",\"ticks\":\"\"}},\"title\":{\"x\":0.05},\"xaxis\":{\"automargin\":true,\"gridcolor\":\"white\",\"linecolor\":\"white\",\"ticks\":\"\",\"title\":{\"standoff\":15},\"zerolinecolor\":\"white\",\"zerolinewidth\":2},\"yaxis\":{\"automargin\":true,\"gridcolor\":\"white\",\"linecolor\":\"white\",\"ticks\":\"\",\"title\":{\"standoff\":15},\"zerolinecolor\":\"white\",\"zerolinewidth\":2}}},\"xaxis\":{\"anchor\":\"y\",\"domain\":[0.0,1.0],\"title\":{\"text\":\"x\"}},\"yaxis\":{\"anchor\":\"x\",\"domain\":[0.0,1.0],\"title\":{\"text\":\"y\"}},\"legend\":{\"title\":{\"text\":\"cat_name\"},\"tracegroupgap\":0},\"margin\":{\"t\":60},\"width\":820},                        {\"responsive\": true}                    ).then(function(){\n",
              "                            \n",
              "var gd = document.getElementById('7a4b36f4-b67f-48fc-9586-b2720a44ac51');\n",
              "var x = new MutationObserver(function (mutations, observer) {{\n",
              "        var display = window.getComputedStyle(gd).display;\n",
              "        if (!display || display === 'none') {{\n",
              "            console.log([gd, 'removed!']);\n",
              "            Plotly.purge(gd);\n",
              "            observer.disconnect();\n",
              "        }}\n",
              "}});\n",
              "\n",
              "// Listen for the removal of the full notebook cells\n",
              "var notebookContainer = gd.closest('#notebook-container');\n",
              "if (notebookContainer) {{\n",
              "    x.observe(notebookContainer, {childList: true});\n",
              "}}\n",
              "\n",
              "// Listen for the clearing of the current output cell\n",
              "var outputEl = gd.closest('.output');\n",
              "if (outputEl) {{\n",
              "    x.observe(outputEl, {childList: true});\n",
              "}}\n",
              "\n",
              "                        })                };                            </script>        </div>\n",
              "</body>\n",
              "</html>"
            ]
          },
          "metadata": {}
        }
      ]
    }
  ],
  "metadata": {
    "hide_input": false,
    "kernelspec": {
      "display_name": "Python 3",
      "language": "python",
      "name": "python3"
    },
    "language_info": {
      "codemirror_mode": {
        "name": "ipython",
        "version": 3
      },
      "file_extension": ".py",
      "mimetype": "text/x-python",
      "name": "python",
      "nbconvert_exporter": "python",
      "pygments_lexer": "ipython3",
      "version": "3.6.9"
    },
    "toc": {
      "base_numbering": 1,
      "nav_menu": {},
      "number_sections": true,
      "sideBar": true,
      "skip_h1_title": false,
      "title_cell": "Table of Contents",
      "title_sidebar": "Contents",
      "toc_cell": false,
      "toc_position": {},
      "toc_section_display": true,
      "toc_window_display": false
    },
    "colab": {
      "name": "W2V_notebook.ipynb",
      "provenance": [],
      "collapsed_sections": []
    }
  },
  "nbformat": 4,
  "nbformat_minor": 0
}